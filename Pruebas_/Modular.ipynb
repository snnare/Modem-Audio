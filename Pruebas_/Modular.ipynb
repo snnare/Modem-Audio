{
 "cells": [
  {
   "cell_type": "code",
   "execution_count": 23,
   "metadata": {},
   "outputs": [],
   "source": [
    "import sounddevice as sd\n",
    "import numpy as np\n",
    "import soundfile as sf\n",
    "import matplotlib.pyplot as plt\n",
    "import numpy as np\n",
    "import scipy\n",
    "import wave\n",
    "import itertools\n",
    "from IPython.display import Audio"
   ]
  },
  {
   "attachments": {},
   "cell_type": "markdown",
   "metadata": {},
   "source": [
    "## FSK full Demodulation"
   ]
  },
  {
   "cell_type": "code",
   "execution_count": 24,
   "metadata": {},
   "outputs": [],
   "source": [
    "def fsk_modulate(bit_str, bit_freq_map, baud, sample_rate):\n",
    "    seconds_per_bit = 1 / baud\n",
    "    samples_per_bit = int(sample_rate * seconds_per_bit)\n",
    "    t = np.linspace(0, seconds_per_bit, samples_per_bit)\n",
    "    \n",
    "    # maps from bit sequence (like \"10\") to the modulated wave representing that \"symbol\"\n",
    "    symbol_map = {bit_seq: np.sin(freq * 2 * np.pi * t) for bit_seq, freq in bit_freq_map.items()}\n",
    "\n",
    "    signal = np.array([])\n",
    "    bits_per_symbol = len(list(bit_freq_map.keys())[0])  # Assume all keys are the same length\n",
    "    for symbol in [bit_str[i:i+bits_per_symbol] for i in range(0, len(bit_str), bits_per_symbol)]:\n",
    "        symbol_wave = symbol_map[symbol]\n",
    "        signal = np.append(signal, symbol_wave)\n",
    "    return signal"
   ]
  },
  {
   "cell_type": "code",
   "execution_count": 52,
   "metadata": {},
   "outputs": [
    {
     "data": {
      "text/plain": [
       "'001100000011000000110000'"
      ]
     },
     "execution_count": 52,
     "metadata": {},
     "output_type": "execute_result"
    }
   ],
   "source": [
    "aprs_msg = \"1\"\n",
    "aprs_msg_bits = ''.join([\"{0:b}\".format(ord(c)).zfill(8) for c in aprs_msg])\n",
    "aprs_msg_bits"
   ]
  },
  {
   "cell_type": "code",
   "execution_count": 43,
   "metadata": {},
   "outputs": [],
   "source": [
    "bit_freq_map = {\n",
    "    \"0\": 1000,\n",
    "    \"1\": 2000\n",
    "}\n",
    "baud = 2\n",
    "sample_rate = 44100\n",
    "\n",
    "aprs_msg_signal = fsk_modulate(aprs_msg_bits, {\"0\": 2200, \"1\": 1200}, baud=1200, sample_rate=44100)"
   ]
  },
  {
   "cell_type": "code",
   "execution_count": 44,
   "metadata": {},
   "outputs": [
    {
     "data": {
      "text/plain": [
       "4896"
      ]
     },
     "execution_count": 44,
     "metadata": {},
     "output_type": "execute_result"
    }
   ],
   "source": [
    "len(aprs_msg_signal)"
   ]
  },
  {
   "cell_type": "code",
   "execution_count": 45,
   "metadata": {},
   "outputs": [
    {
     "data": {
      "text/html": [
       "\n",
       "                <audio  controls=\"controls\" >\n",
       "                    <source src=\"data:audio/wav;base64,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\" type=\"audio/wav\" />\n",
       "                    Your browser does not support the audio element.\n",
       "                </audio>\n",
       "              "
      ],
      "text/plain": [
       "<IPython.lib.display.Audio object>"
      ]
     },
     "execution_count": 45,
     "metadata": {},
     "output_type": "execute_result"
    }
   ],
   "source": [
    "Audio(aprs_msg_signal, rate=44100)"
   ]
  },
  {
   "cell_type": "code",
   "execution_count": 29,
   "metadata": {},
   "outputs": [],
   "source": [
    "def fsk_demodulate(raw_signal, bit_freq_map, baud, sample_rate):\n",
    "    seconds_per_bit = 1 / baud\n",
    "    samples_per_bit = int(sample_rate * seconds_per_bit)\n",
    "    t = np.linspace(0, seconds_per_bit, samples_per_bit)\n",
    "    \n",
    "    # maps from bit sequence (like \"10\") to the modulated wave representing that \"symbol\"\n",
    "    wave_to_symbol_map = {bit_seq: np.sin(freq * 2 * np.pi * t) for bit_seq, freq in bit_freq_map.items()}\n",
    "    \n",
    "    bit_str = \"\"\n",
    "    for index in range(0, len(raw_signal), samples_per_bit):\n",
    "        best_symbol = \"\"\n",
    "        highest_dot_abs = 0\n",
    "        for symbol, symbol_wave in wave_to_symbol_map.items():\n",
    "            raw_window = raw_signal[index:index+samples_per_bit]\n",
    "            dot_abs = np.abs(np.dot(symbol_wave[0:len(raw_window)], raw_window))\n",
    "            if dot_abs > highest_dot_abs:\n",
    "                best_symbol = symbol\n",
    "                highest_dot_abs = dot_abs\n",
    "        bit_str += best_symbol\n",
    "    return bit_str"
   ]
  },
  {
   "cell_type": "code",
   "execution_count": 49,
   "metadata": {},
   "outputs": [
    {
     "ename": "ValueError",
     "evalue": "setting an array element with a sequence. The requested array has an inhomogeneous shape after 1 dimensions. The detected shape was (2,) + inhomogeneous part.",
     "output_type": "error",
     "traceback": [
      "\u001b[1;31m---------------------------------------------------------------------------\u001b[0m",
      "\u001b[1;31mValueError\u001b[0m                                Traceback (most recent call last)",
      "Cell \u001b[1;32mIn[49], line 2\u001b[0m\n\u001b[0;32m      1\u001b[0m grabada \u001b[39m=\u001b[39m sf\u001b[39m.\u001b[39mread(\u001b[39m'\u001b[39m\u001b[39mtransmisor.wav\u001b[39m\u001b[39m'\u001b[39m)\n\u001b[1;32m----> 2\u001b[0m demodular_msg \u001b[39m=\u001b[39m fsk_demodulate(grabada, bit_freq_map, baud, sample_rate)\n",
      "Cell \u001b[1;32mIn[29], line 15\u001b[0m, in \u001b[0;36mfsk_demodulate\u001b[1;34m(raw_signal, bit_freq_map, baud, sample_rate)\u001b[0m\n\u001b[0;32m     13\u001b[0m \u001b[39mfor\u001b[39;00m symbol, symbol_wave \u001b[39min\u001b[39;00m wave_to_symbol_map\u001b[39m.\u001b[39mitems():\n\u001b[0;32m     14\u001b[0m     raw_window \u001b[39m=\u001b[39m raw_signal[index:index\u001b[39m+\u001b[39msamples_per_bit]\n\u001b[1;32m---> 15\u001b[0m     dot_abs \u001b[39m=\u001b[39m np\u001b[39m.\u001b[39mabs(np\u001b[39m.\u001b[39;49mdot(symbol_wave[\u001b[39m0\u001b[39;49m:\u001b[39mlen\u001b[39;49m(raw_window)], raw_window))\n\u001b[0;32m     16\u001b[0m     \u001b[39mif\u001b[39;00m dot_abs \u001b[39m>\u001b[39m highest_dot_abs:\n\u001b[0;32m     17\u001b[0m         best_symbol \u001b[39m=\u001b[39m symbol\n",
      "File \u001b[1;32m<__array_function__ internals>:200\u001b[0m, in \u001b[0;36mdot\u001b[1;34m(*args, **kwargs)\u001b[0m\n",
      "\u001b[1;31mValueError\u001b[0m: setting an array element with a sequence. The requested array has an inhomogeneous shape after 1 dimensions. The detected shape was (2,) + inhomogeneous part."
     ]
    }
   ],
   "source": [
    "grabada = sf.read('transmisor.wav')\n",
    "demodular_msg = fsk_demodulate(grabada, bit_freq_map, baud, sample_rate)"
   ]
  },
  {
   "cell_type": "code",
   "execution_count": 30,
   "metadata": {},
   "outputs": [
    {
     "data": {
      "text/plain": [
       "'010010000110010101101100011011000110111100100111'"
      ]
     },
     "execution_count": 30,
     "metadata": {},
     "output_type": "execute_result"
    }
   ],
   "source": [
    "demodulated_aprs_msg = fsk_demodulate(aprs_msg_signal, bit_freq_map, baud, sample_rate)\n",
    "demodulated_aprs_msg"
   ]
  },
  {
   "cell_type": "code",
   "execution_count": 31,
   "metadata": {},
   "outputs": [
    {
     "data": {
      "text/plain": [
       "True"
      ]
     },
     "execution_count": 31,
     "metadata": {},
     "output_type": "execute_result"
    }
   ],
   "source": [
    "demodulated_aprs_msg == aprs_msg_bits"
   ]
  },
  {
   "attachments": {},
   "cell_type": "markdown",
   "metadata": {},
   "source": [
    "##  Nuestra Modulacion"
   ]
  },
  {
   "cell_type": "code",
   "execution_count": null,
   "metadata": {},
   "outputs": [],
   "source": []
  }
 ],
 "metadata": {
  "kernelspec": {
   "display_name": "Python 3",
   "language": "python",
   "name": "python3"
  },
  "language_info": {
   "codemirror_mode": {
    "name": "ipython",
    "version": 3
   },
   "file_extension": ".py",
   "mimetype": "text/x-python",
   "name": "python",
   "nbconvert_exporter": "python",
   "pygments_lexer": "ipython3",
   "version": "3.11.3"
  },
  "orig_nbformat": 4
 },
 "nbformat": 4,
 "nbformat_minor": 2
}
