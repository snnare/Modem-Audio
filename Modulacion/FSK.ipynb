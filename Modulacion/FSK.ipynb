{
 "cells": [
  {
   "cell_type": "code",
   "execution_count": 46,
   "metadata": {},
   "outputs": [],
   "source": [
    "import numpy as np\n",
    "import sounddevice as sd\n",
    "import matplotlib.pyplot as plt\n",
    "from scipy.io import wavfile\n",
    "import soundfile as sf\n",
    "import pyaudio\n",
    "import wave"
   ]
  },
  {
   "cell_type": "code",
   "execution_count": 58,
   "metadata": {},
   "outputs": [],
   "source": [
    "def setup_graph(title='', x_label='', y_label='', fig_size=None):\n",
    "    fig = plt.figure()\n",
    "    if fig_size != None:\n",
    "        fig.set_size_inches(fig_size[0], fig_size[1])\n",
    "    ax = fig.add_subplot(111)\n",
    "    ax.set_title(title)\n",
    "    ax.set_xlabel(x_label)\n",
    "    ax.set_ylabel(y_label)\n",
    "\n",
    "def grabar_senial(ds, path):\n",
    "    # Definimos parametros\n",
    "    FORMAT = pyaudio.paInt16\n",
    "    CHANNELS = 1\n",
    "    RATE = 44100\n",
    "    CHUNK = 1024\n",
    "    duracion = ds\n",
    "    file = path\n",
    "\n",
    "    # Inicar n\n",
    "    audio = pyaudio.PyAudio()\n",
    "\n",
    "    stream = audio.open(\n",
    "        format=FORMAT,\n",
    "        channels= CHANNELS,\n",
    "        rate=RATE,\n",
    "        frames_per_buffer=CHUNK\n",
    "    )\n",
    "\n",
    "    print('Grabando...')\n",
    "    frames =[]\n",
    "\n",
    "\n",
    "    for i in range(0, int(RATE/CHUNK*duracion)):\n",
    "        data = stream.read(CHUNK)\n",
    "        frames.append(data)\n",
    "    stream.stop_stream()\n",
    "    stream.close()\n",
    "    audio.terminate()\n",
    "\n",
    "\n",
    "    wavfile = wave.open()\n",
    "\n",
    "def save_as_wav(file_name, signal, fs):\n",
    "    # Asegurarse de que la señal sea de tipo entero de 16 bits\n",
    "    sf.write(file_name, signal, fs)\n",
    "    print(f\"La grabación se guardó en {file_name}.\")"
   ]
  },
  {
   "cell_type": "code",
   "execution_count": null,
   "metadata": {},
   "outputs": [],
   "source": []
  },
  {
   "attachments": {},
   "cell_type": "markdown",
   "metadata": {},
   "source": [
    "###  FSK modulation"
   ]
  },
  {
   "cell_type": "code",
   "execution_count": 48,
   "metadata": {},
   "outputs": [],
   "source": [
    "\n",
    "def bfsk_modulate(bit_array, space_freq, mark_freq, baud, sample_rate):\n",
    "    seconds_per_bit = 1 / baud\n",
    "    samples_per_bit = int(sample_rate * seconds_per_bit)\n",
    "    t = np.linspace(0, seconds_per_bit, samples_per_bit, endpoint=False)\n",
    "    signal = np.array([])\n",
    "    for bit in bit_array:\n",
    "        if bit == 0:\n",
    "            space = np.sin(2 * np.pi * space_freq * t)\n",
    "            signal = np.append(signal, space)\n",
    "        elif bit == 1:\n",
    "            mark = np.sin(2 * np.pi * mark_freq * t)\n",
    "            signal = np.append(signal, mark)\n",
    "    return signal"
   ]
  },
  {
   "attachments": {},
   "cell_type": "markdown",
   "metadata": {},
   "source": [
    "### FSK demodulation"
   ]
  },
  {
   "cell_type": "code",
   "execution_count": 49,
   "metadata": {},
   "outputs": [],
   "source": [
    "import numpy as np\n",
    "\n",
    "def bfsk_demodulate(signal, space_freq, mark_freq, baud, sample_rate):\n",
    "    seconds_per_bit = 1 / baud\n",
    "    samples_per_bit = int(sample_rate * seconds_per_bit)\n",
    "    bit_array = np.array([])\n",
    "\n",
    "    for i in range(0, len(signal), samples_per_bit):\n",
    "        bit_samples = signal[i:i+samples_per_bit]\n",
    "        correlation_space = np.correlate(bit_samples, np.sin(2 * np.pi * space_freq * np.linspace(0, seconds_per_bit, samples_per_bit, endpoint=False)))\n",
    "        correlation_mark = np.correlate(bit_samples, np.sin(2 * np.pi * mark_freq * np.linspace(0, seconds_per_bit, samples_per_bit, endpoint=False)))\n",
    "\n",
    "        if correlation_space > correlation_mark:\n",
    "            bit_array = np.append(bit_array, 0)\n",
    "        else:\n",
    "            bit_array = np.append(bit_array, 1)\n",
    "\n",
    "    return bit_array.astype(int)"
   ]
  },
  {
   "attachments": {},
   "cell_type": "markdown",
   "metadata": {},
   "source": [
    "### Modula la cadena de bits y reproduce el audio"
   ]
  },
  {
   "cell_type": "code",
   "execution_count": 52,
   "metadata": {},
   "outputs": [],
   "source": [
    "sig_010110 = bfsk_modulate([0,1,0,1,1,0], 1000, 2000, 1, 44100)"
   ]
  },
  {
   "cell_type": "code",
   "execution_count": 51,
   "metadata": {},
   "outputs": [],
   "source": [
    "sd.play(sig_010110, 44100)\n",
    "sd.wait()"
   ]
  },
  {
   "attachments": {},
   "cell_type": "markdown",
   "metadata": {},
   "source": [
    "### Guardar .wav\n",
    "Guarda la senial en un archivo"
   ]
  },
  {
   "cell_type": "code",
   "execution_count": 54,
   "metadata": {},
   "outputs": [],
   "source": [
    "filename = 'Sonidos/a.wav'"
   ]
  },
  {
   "attachments": {},
   "cell_type": "markdown",
   "metadata": {},
   "source": [
    "## Demodular"
   ]
  },
  {
   "cell_type": "code",
   "execution_count": 42,
   "metadata": {},
   "outputs": [
    {
     "name": "stdout",
     "output_type": "stream",
     "text": [
      "[0 1 0 1 1 0]\n"
     ]
    }
   ],
   "source": [
    "signal_demodulada = bfsk_demodulate(sig_010110, 1000, 2000, 1, 44100)\n",
    "print(signal_demodulada)"
   ]
  }
 ],
 "metadata": {
  "kernelspec": {
   "display_name": "Python 3",
   "language": "python",
   "name": "python3"
  },
  "language_info": {
   "codemirror_mode": {
    "name": "ipython",
    "version": 3
   },
   "file_extension": ".py",
   "mimetype": "text/x-python",
   "name": "python",
   "nbconvert_exporter": "python",
   "pygments_lexer": "ipython3",
   "version": "3.11.3"
  },
  "orig_nbformat": 4
 },
 "nbformat": 4,
 "nbformat_minor": 2
}
